{
 "cells": [
  {
   "cell_type": "code",
   "execution_count": null,
   "id": "d5bd4b7e",
   "metadata": {},
   "outputs": [],
   "source": [
    "\n",
    "\n",
    "from IPython.display import HTML\n",
    "\n",
    "# Inject the CSS\n",
    "def load_css():\n",
    "    with open(\"styles.css\", \"r\") as f:\n",
    "        styles = f.read()\n",
    "    return HTML(f\"<style>{styles}</style>\")\n",
    "\n",
    "load_css()\n"
   ]
  },
  {
   "cell_type": "code",
   "execution_count": null,
   "id": "7d065879",
   "metadata": {},
   "outputs": [
    {
     "data": {
      "application/vnd.jupyter.widget-view+json": {
       "model_id": "7ca9172c10234818bbb03cb1521015d6",
       "version_major": 2,
       "version_minor": 0
      },
      "text/plain": [
       "FloatText(value=0.0, description='Glucose')"
      ]
     },
     "metadata": {},
     "output_type": "display_data"
    },
    {
     "data": {
      "application/vnd.jupyter.widget-view+json": {
       "model_id": "4b897fdfa65d49d5be5ba83490acb62c",
       "version_major": 2,
       "version_minor": 0
      },
      "text/plain": [
       "FloatText(value=0.0, description='BP')"
      ]
     },
     "metadata": {},
     "output_type": "display_data"
    },
    {
     "data": {
      "application/vnd.jupyter.widget-view+json": {
       "model_id": "b9a25e050a8f40598630fd66b2b8d4b6",
       "version_major": 2,
       "version_minor": 0
      },
      "text/plain": [
       "FloatText(value=0.0, description='BMI')"
      ]
     },
     "metadata": {},
     "output_type": "display_data"
    },
    {
     "data": {
      "application/vnd.jupyter.widget-view+json": {
       "model_id": "05d88e6dff48477d99046e1e9e4d360a",
       "version_major": 2,
       "version_minor": 0
      },
      "text/plain": [
       "IntText(value=0, description='Age')"
      ]
     },
     "metadata": {},
     "output_type": "display_data"
    },
    {
     "data": {
      "application/vnd.jupyter.widget-view+json": {
       "model_id": "89e3e5b974fb4fc4a910336bd5d5c671",
       "version_major": 2,
       "version_minor": 0
      },
      "text/plain": [
       "Button(button_style='success', description='Predict', style=ButtonStyle())"
      ]
     },
     "metadata": {},
     "output_type": "display_data"
    },
    {
     "data": {
      "application/vnd.jupyter.widget-view+json": {
       "model_id": "664baf91540647b2a95bc50ce8dc2bb2",
       "version_major": 2,
       "version_minor": 0
      },
      "text/plain": [
       "Output()"
      ]
     },
     "metadata": {},
     "output_type": "display_data"
    }
   ],
   "source": [
    "# 🧠 Chronic Disease Prevention Tracker\n",
    "\n",
    "import pandas as pd\n",
    "import ipywidgets as widgets\n",
    "from IPython.display import display, HTML\n",
    "import joblib\n",
    "\n",
    "# ✅ Load Custom CSS for Voila Styling\n",
    "def load_css():\n",
    "    with open(\"styles.css\", \"r\") as f:\n",
    "        styles = f.read()\n",
    "    return HTML(f\"<style>{styles}</style>\")\n",
    "\n",
    "display(load_css())\n",
    "\n",
    "# ✅ Load trained ML model\n",
    "model = joblib.load(\"chronic_model.pkl\")\n",
    "\n",
    "# ✅ Intervention guidance per risk level\n",
    "intervention_guide = {\n",
    "    \"Low\": [\n",
    "        \"✅ Maintain a healthy diet\",\n",
    "        \"✅ Continue regular exercise (30 mins/day)\",\n",
    "        \"✅ Annual health checkups recommended\"\n",
    "    ],\n",
    "    \"Medium\": [\n",
    "        \"⚠️ Reduce sugar and salt intake\",\n",
    "        \"⚠️ Start brisk walking or yoga daily\",\n",
    "        \"⚠️ Monitor blood pressure and glucose regularly\",\n",
    "        \"⚠️ Schedule a consultation with your physician\"\n",
    "    ],\n",
    "    \"High\": [\n",
    "        \"🚨 Consult a doctor immediately\",\n",
    "        \"🚨 Follow a strict low-carb, low-sodium diet\",\n",
    "        \"🚨 Begin supervised physical activity\",\n",
    "        \"🚨 Consider medical screening for diabetes/hypertension\"\n",
    "    ]\n",
    "}\n",
    "\n",
    "# ✅ Create interactive widgets\n",
    "glucose = widgets.FloatText(description=\"Glucose\")\n",
    "bp = widgets.FloatText(description=\"Blood Pressure\")\n",
    "bmi = widgets.FloatText(description=\"BMI\")\n",
    "age = widgets.IntText(description=\"Age\")\n",
    "\n",
    "predict_button = widgets.Button(description=\"Predict Risk\", button_style='success')\n",
    "output = widgets.Output()\n",
    "\n",
    "# ✅ Prediction logic with intervention suggestions\n",
    "def on_click(b):\n",
    "    with output:\n",
    "        output.clear_output()\n",
    "        df = pd.DataFrame([{\n",
    "            \"glucose\": glucose.value,\n",
    "            \"bp\": bp.value,\n",
    "            \"bmi\": bmi.value,\n",
    "            \"age\": age.value\n",
    "        }])\n",
    "        result = model.predict(df)[0]\n",
    "\n",
    "        print(f\"🧠 Risk Prediction: {result}\\n\")\n",
    "        print(\"🩺 Recommended Interventions:\")\n",
    "        for tip in intervention_guide.get(result, [\"No recommendation available.\"]):\n",
    "            print(f\"• {tip}\")\n",
    "\n",
    "predict_button.on_click(on_click)\n",
    "\n",
    "# ✅ Display the input form\n",
    "display(glucose, bp, bmi, age, predict_button, output)\n"
   ]
  },
  {
   "cell_type": "code",
   "execution_count": null,
   "id": "6ed8fc47",
   "metadata": {},
   "outputs": [],
   "source": []
  }
 ],
 "metadata": {
  "kernelspec": {
   "display_name": "Python 3",
   "language": "python",
   "name": "python3"
  },
  "language_info": {
   "codemirror_mode": {
    "name": "ipython",
    "version": 3
   },
   "file_extension": ".py",
   "mimetype": "text/x-python",
   "name": "python",
   "nbconvert_exporter": "python",
   "pygments_lexer": "ipython3",
   "version": "3.11.5"
  }
 },
 "nbformat": 4,
 "nbformat_minor": 5
}
